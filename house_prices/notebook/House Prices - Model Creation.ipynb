{
 "cells": [
  {
   "cell_type": "markdown",
   "metadata": {},
   "source": [
    "# House Prices - Model Creation\n",
    "Here I describe my approach in creating and training a predictive model for the House Prices competition at [Kaggle](https://www.kaggle.com/c/house-prices-advanced-regression-techniques)."
   ]
  },
  {
   "cell_type": "code",
   "execution_count": 1,
   "metadata": {
    "collapsed": true
   },
   "outputs": [],
   "source": [
    "%matplotlib inline"
   ]
  },
  {
   "cell_type": "code",
   "execution_count": 2,
   "metadata": {
    "collapsed": true
   },
   "outputs": [],
   "source": [
    "import numpy as np\n",
    "import pandas as pd\n",
    "import seaborn as sns"
   ]
  },
  {
   "cell_type": "code",
   "execution_count": 3,
   "metadata": {
    "collapsed": true
   },
   "outputs": [],
   "source": [
    "np.random.seed(42)"
   ]
  },
  {
   "cell_type": "markdown",
   "metadata": {},
   "source": [
    "## Loading the data"
   ]
  },
  {
   "cell_type": "code",
   "execution_count": 4,
   "metadata": {
    "collapsed": true
   },
   "outputs": [],
   "source": [
    "df_train = pd.read_csv('../datasets/train_preprocessed.csv', index_col=0, na_values=[''],\n",
    "                       keep_default_na=False)"
   ]
  },
  {
   "cell_type": "code",
   "execution_count": 5,
   "metadata": {
    "collapsed": false
   },
   "outputs": [
    {
     "data": {
      "text/html": [
       "<div>\n",
       "<table border=\"1\" class=\"dataframe\">\n",
       "  <thead>\n",
       "    <tr style=\"text-align: right;\">\n",
       "      <th></th>\n",
       "      <th>1stFlrSF__log1p</th>\n",
       "      <th>2ndFlrSF__log1p</th>\n",
       "      <th>BedroomAbvGr</th>\n",
       "      <th>BsmtCond__cat</th>\n",
       "      <th>BsmtExposure__cat</th>\n",
       "      <th>BsmtMeanRating</th>\n",
       "      <th>BsmtQual__cat</th>\n",
       "      <th>BsmtUnfSF__sqrt</th>\n",
       "      <th>ExterCond__cat</th>\n",
       "      <th>ExterQual__cat</th>\n",
       "      <th>...</th>\n",
       "      <th>SeasonSold_Winter</th>\n",
       "      <th>StdElectrical</th>\n",
       "      <th>TotRmsAbvGrd</th>\n",
       "      <th>TotalBathrooms</th>\n",
       "      <th>TotalBsmtSF__log1p</th>\n",
       "      <th>TotalPorchSF</th>\n",
       "      <th>TypicalFunc</th>\n",
       "      <th>WoodDeckSF__log1p</th>\n",
       "      <th>YrSold</th>\n",
       "      <th>SalePrice__log1p</th>\n",
       "    </tr>\n",
       "    <tr>\n",
       "      <th>Id</th>\n",
       "      <th></th>\n",
       "      <th></th>\n",
       "      <th></th>\n",
       "      <th></th>\n",
       "      <th></th>\n",
       "      <th></th>\n",
       "      <th></th>\n",
       "      <th></th>\n",
       "      <th></th>\n",
       "      <th></th>\n",
       "      <th></th>\n",
       "      <th></th>\n",
       "      <th></th>\n",
       "      <th></th>\n",
       "      <th></th>\n",
       "      <th></th>\n",
       "      <th></th>\n",
       "      <th></th>\n",
       "      <th></th>\n",
       "      <th></th>\n",
       "      <th></th>\n",
       "    </tr>\n",
       "  </thead>\n",
       "  <tbody>\n",
       "    <tr>\n",
       "      <th>1</th>\n",
       "      <td>-0.777287</td>\n",
       "      <td>1.196876</td>\n",
       "      <td>0.169927</td>\n",
       "      <td>0.138318</td>\n",
       "      <td>-0.584669</td>\n",
       "      <td>0.908418</td>\n",
       "      <td>0.612167</td>\n",
       "      <td>-0.866384</td>\n",
       "      <td>-0.230047</td>\n",
       "      <td>1.039805</td>\n",
       "      <td>...</td>\n",
       "      <td>2.670378</td>\n",
       "      <td>0.30404</td>\n",
       "      <td>0.986849</td>\n",
       "      <td>1.656672</td>\n",
       "      <td>0.019120</td>\n",
       "      <td>-0.261852</td>\n",
       "      <td>0.271213</td>\n",
       "      <td>-0.945126</td>\n",
       "      <td>0.157646</td>\n",
       "      <td>12.247699</td>\n",
       "    </tr>\n",
       "    <tr>\n",
       "      <th>2</th>\n",
       "      <td>0.424865</td>\n",
       "      <td>-0.863610</td>\n",
       "      <td>0.169927</td>\n",
       "      <td>0.138318</td>\n",
       "      <td>2.222317</td>\n",
       "      <td>0.492535</td>\n",
       "      <td>0.612167</td>\n",
       "      <td>-0.423996</td>\n",
       "      <td>-0.230047</td>\n",
       "      <td>-0.683756</td>\n",
       "      <td>...</td>\n",
       "      <td>-0.374479</td>\n",
       "      <td>0.30404</td>\n",
       "      <td>-0.287758</td>\n",
       "      <td>0.595253</td>\n",
       "      <td>0.347142</td>\n",
       "      <td>-0.827273</td>\n",
       "      <td>0.271213</td>\n",
       "      <td>1.254212</td>\n",
       "      <td>-0.602962</td>\n",
       "      <td>12.109016</td>\n",
       "    </tr>\n",
       "    <tr>\n",
       "      <th>3</th>\n",
       "      <td>-0.554028</td>\n",
       "      <td>1.201129</td>\n",
       "      <td>0.169927</td>\n",
       "      <td>0.138318</td>\n",
       "      <td>0.350993</td>\n",
       "      <td>0.908418</td>\n",
       "      <td>0.612167</td>\n",
       "      <td>-0.041603</td>\n",
       "      <td>-0.230047</td>\n",
       "      <td>1.039805</td>\n",
       "      <td>...</td>\n",
       "      <td>-0.374479</td>\n",
       "      <td>0.30404</td>\n",
       "      <td>-0.287758</td>\n",
       "      <td>1.656672</td>\n",
       "      <td>0.080039</td>\n",
       "      <td>-0.437967</td>\n",
       "      <td>0.271213</td>\n",
       "      <td>-0.945126</td>\n",
       "      <td>0.157646</td>\n",
       "      <td>12.317171</td>\n",
       "    </tr>\n",
       "    <tr>\n",
       "      <th>4</th>\n",
       "      <td>-0.419015</td>\n",
       "      <td>1.159720</td>\n",
       "      <td>0.169927</td>\n",
       "      <td>1.901415</td>\n",
       "      <td>-0.584669</td>\n",
       "      <td>0.492535</td>\n",
       "      <td>-0.628746</td>\n",
       "      <td>0.189467</td>\n",
       "      <td>-0.230047</td>\n",
       "      <td>-0.683756</td>\n",
       "      <td>...</td>\n",
       "      <td>2.670378</td>\n",
       "      <td>0.30404</td>\n",
       "      <td>0.349546</td>\n",
       "      <td>-0.466166</td>\n",
       "      <td>-0.085828</td>\n",
       "      <td>2.018368</td>\n",
       "      <td>0.271213</td>\n",
       "      <td>-0.945126</td>\n",
       "      <td>-1.363569</td>\n",
       "      <td>11.849405</td>\n",
       "    </tr>\n",
       "    <tr>\n",
       "      <th>5</th>\n",
       "      <td>0.123520</td>\n",
       "      <td>1.260739</td>\n",
       "      <td>1.385655</td>\n",
       "      <td>0.138318</td>\n",
       "      <td>1.286655</td>\n",
       "      <td>0.908418</td>\n",
       "      <td>0.612167</td>\n",
       "      <td>0.083602</td>\n",
       "      <td>-0.230047</td>\n",
       "      <td>1.039805</td>\n",
       "      <td>...</td>\n",
       "      <td>2.670378</td>\n",
       "      <td>0.30404</td>\n",
       "      <td>1.624153</td>\n",
       "      <td>1.656672</td>\n",
       "      <td>0.264916</td>\n",
       "      <td>-0.048661</td>\n",
       "      <td>0.271213</td>\n",
       "      <td>1.085318</td>\n",
       "      <td>0.157646</td>\n",
       "      <td>12.429220</td>\n",
       "    </tr>\n",
       "  </tbody>\n",
       "</table>\n",
       "<p>5 rows × 132 columns</p>\n",
       "</div>"
      ],
      "text/plain": [
       "    1stFlrSF__log1p  2ndFlrSF__log1p  BedroomAbvGr  BsmtCond__cat  \\\n",
       "Id                                                                  \n",
       "1         -0.777287         1.196876      0.169927       0.138318   \n",
       "2          0.424865        -0.863610      0.169927       0.138318   \n",
       "3         -0.554028         1.201129      0.169927       0.138318   \n",
       "4         -0.419015         1.159720      0.169927       1.901415   \n",
       "5          0.123520         1.260739      1.385655       0.138318   \n",
       "\n",
       "    BsmtExposure__cat  BsmtMeanRating  BsmtQual__cat  BsmtUnfSF__sqrt  \\\n",
       "Id                                                                      \n",
       "1           -0.584669        0.908418       0.612167        -0.866384   \n",
       "2            2.222317        0.492535       0.612167        -0.423996   \n",
       "3            0.350993        0.908418       0.612167        -0.041603   \n",
       "4           -0.584669        0.492535      -0.628746         0.189467   \n",
       "5            1.286655        0.908418       0.612167         0.083602   \n",
       "\n",
       "    ExterCond__cat  ExterQual__cat        ...         SeasonSold_Winter  \\\n",
       "Id                                        ...                             \n",
       "1        -0.230047        1.039805        ...                  2.670378   \n",
       "2        -0.230047       -0.683756        ...                 -0.374479   \n",
       "3        -0.230047        1.039805        ...                 -0.374479   \n",
       "4        -0.230047       -0.683756        ...                  2.670378   \n",
       "5        -0.230047        1.039805        ...                  2.670378   \n",
       "\n",
       "    StdElectrical  TotRmsAbvGrd  TotalBathrooms  TotalBsmtSF__log1p  \\\n",
       "Id                                                                    \n",
       "1         0.30404      0.986849        1.656672            0.019120   \n",
       "2         0.30404     -0.287758        0.595253            0.347142   \n",
       "3         0.30404     -0.287758        1.656672            0.080039   \n",
       "4         0.30404      0.349546       -0.466166           -0.085828   \n",
       "5         0.30404      1.624153        1.656672            0.264916   \n",
       "\n",
       "    TotalPorchSF  TypicalFunc  WoodDeckSF__log1p    YrSold  SalePrice__log1p  \n",
       "Id                                                                            \n",
       "1      -0.261852     0.271213          -0.945126  0.157646         12.247699  \n",
       "2      -0.827273     0.271213           1.254212 -0.602962         12.109016  \n",
       "3      -0.437967     0.271213          -0.945126  0.157646         12.317171  \n",
       "4       2.018368     0.271213          -0.945126 -1.363569         11.849405  \n",
       "5      -0.048661     0.271213           1.085318  0.157646         12.429220  \n",
       "\n",
       "[5 rows x 132 columns]"
      ]
     },
     "execution_count": 5,
     "metadata": {},
     "output_type": "execute_result"
    }
   ],
   "source": [
    "df_train.head()"
   ]
  },
  {
   "cell_type": "code",
   "execution_count": 6,
   "metadata": {
    "collapsed": true
   },
   "outputs": [],
   "source": [
    "df_test = pd.read_csv('../datasets/test_preprocessed.csv', index_col=0, na_values=[''],\n",
    "                      keep_default_na=False)"
   ]
  },
  {
   "cell_type": "code",
   "execution_count": 7,
   "metadata": {
    "collapsed": false
   },
   "outputs": [
    {
     "data": {
      "text/html": [
       "<div>\n",
       "<table border=\"1\" class=\"dataframe\">\n",
       "  <thead>\n",
       "    <tr style=\"text-align: right;\">\n",
       "      <th></th>\n",
       "      <th>1stFlrSF__log1p</th>\n",
       "      <th>2ndFlrSF__log1p</th>\n",
       "      <th>BedroomAbvGr</th>\n",
       "      <th>BsmtCond__cat</th>\n",
       "      <th>BsmtExposure__cat</th>\n",
       "      <th>BsmtMeanRating</th>\n",
       "      <th>BsmtQual__cat</th>\n",
       "      <th>BsmtUnfSF__sqrt</th>\n",
       "      <th>ExterCond__cat</th>\n",
       "      <th>ExterQual__cat</th>\n",
       "      <th>...</th>\n",
       "      <th>SeasonSold_Summer</th>\n",
       "      <th>SeasonSold_Winter</th>\n",
       "      <th>StdElectrical</th>\n",
       "      <th>TotRmsAbvGrd</th>\n",
       "      <th>TotalBathrooms</th>\n",
       "      <th>TotalBsmtSF__log1p</th>\n",
       "      <th>TotalPorchSF</th>\n",
       "      <th>TypicalFunc</th>\n",
       "      <th>WoodDeckSF__log1p</th>\n",
       "      <th>YrSold</th>\n",
       "    </tr>\n",
       "    <tr>\n",
       "      <th>Id</th>\n",
       "      <th></th>\n",
       "      <th></th>\n",
       "      <th></th>\n",
       "      <th></th>\n",
       "      <th></th>\n",
       "      <th></th>\n",
       "      <th></th>\n",
       "      <th></th>\n",
       "      <th></th>\n",
       "      <th></th>\n",
       "      <th></th>\n",
       "      <th></th>\n",
       "      <th></th>\n",
       "      <th></th>\n",
       "      <th></th>\n",
       "      <th></th>\n",
       "      <th></th>\n",
       "      <th></th>\n",
       "      <th></th>\n",
       "      <th></th>\n",
       "      <th></th>\n",
       "    </tr>\n",
       "  </thead>\n",
       "  <tbody>\n",
       "    <tr>\n",
       "      <th>1461</th>\n",
       "      <td>-0.635877</td>\n",
       "      <td>-0.863610</td>\n",
       "      <td>-1.045801</td>\n",
       "      <td>0.138318</td>\n",
       "      <td>-0.584669</td>\n",
       "      <td>0.076651</td>\n",
       "      <td>-0.628746</td>\n",
       "      <td>-0.464405</td>\n",
       "      <td>-0.230047</td>\n",
       "      <td>-0.683756</td>\n",
       "      <td>...</td>\n",
       "      <td>1.212247</td>\n",
       "      <td>-0.374479</td>\n",
       "      <td>0.30404</td>\n",
       "      <td>-0.925062</td>\n",
       "      <td>-1.527586</td>\n",
       "      <td>0.044400</td>\n",
       "      <td>0.285030</td>\n",
       "      <td>0.271213</td>\n",
       "      <td>0.964198</td>\n",
       "      <td>1.67886</td>\n",
       "    </tr>\n",
       "    <tr>\n",
       "      <th>1462</th>\n",
       "      <td>0.585094</td>\n",
       "      <td>-0.863610</td>\n",
       "      <td>0.169927</td>\n",
       "      <td>0.138318</td>\n",
       "      <td>-0.584669</td>\n",
       "      <td>0.492535</td>\n",
       "      <td>-0.628746</td>\n",
       "      <td>-0.107240</td>\n",
       "      <td>-0.230047</td>\n",
       "      <td>-0.683756</td>\n",
       "      <td>...</td>\n",
       "      <td>1.212247</td>\n",
       "      <td>-0.374479</td>\n",
       "      <td>0.30404</td>\n",
       "      <td>-0.287758</td>\n",
       "      <td>-0.466166</td>\n",
       "      <td>0.390863</td>\n",
       "      <td>-0.493582</td>\n",
       "      <td>0.271213</td>\n",
       "      <td>1.360662</td>\n",
       "      <td>1.67886</td>\n",
       "    </tr>\n",
       "    <tr>\n",
       "      <th>1463</th>\n",
       "      <td>-0.527218</td>\n",
       "      <td>1.136698</td>\n",
       "      <td>0.169927</td>\n",
       "      <td>0.138318</td>\n",
       "      <td>-0.584669</td>\n",
       "      <td>0.908418</td>\n",
       "      <td>0.612167</td>\n",
       "      <td>-0.918525</td>\n",
       "      <td>-0.230047</td>\n",
       "      <td>-0.683756</td>\n",
       "      <td>...</td>\n",
       "      <td>-0.824914</td>\n",
       "      <td>-0.374479</td>\n",
       "      <td>0.30404</td>\n",
       "      <td>-0.287758</td>\n",
       "      <td>0.595253</td>\n",
       "      <td>0.087354</td>\n",
       "      <td>-0.512120</td>\n",
       "      <td>0.271213</td>\n",
       "      <td>1.123361</td>\n",
       "      <td>1.67886</td>\n",
       "    </tr>\n",
       "    <tr>\n",
       "      <th>1464</th>\n",
       "      <td>-0.533898</td>\n",
       "      <td>1.126531</td>\n",
       "      <td>0.169927</td>\n",
       "      <td>0.138318</td>\n",
       "      <td>-0.584669</td>\n",
       "      <td>0.908418</td>\n",
       "      <td>-0.628746</td>\n",
       "      <td>-0.313737</td>\n",
       "      <td>-0.230047</td>\n",
       "      <td>-0.683756</td>\n",
       "      <td>...</td>\n",
       "      <td>1.212247</td>\n",
       "      <td>-0.374479</td>\n",
       "      <td>0.30404</td>\n",
       "      <td>0.349546</td>\n",
       "      <td>0.595253</td>\n",
       "      <td>0.085531</td>\n",
       "      <td>-0.493582</td>\n",
       "      <td>0.271213</td>\n",
       "      <td>1.326913</td>\n",
       "      <td>1.67886</td>\n",
       "    </tr>\n",
       "    <tr>\n",
       "      <th>1465</th>\n",
       "      <td>0.468732</td>\n",
       "      <td>-0.863610</td>\n",
       "      <td>-1.045801</td>\n",
       "      <td>0.138318</td>\n",
       "      <td>-0.584669</td>\n",
       "      <td>0.492535</td>\n",
       "      <td>0.612167</td>\n",
       "      <td>1.020715</td>\n",
       "      <td>-0.230047</td>\n",
       "      <td>1.039805</td>\n",
       "      <td>...</td>\n",
       "      <td>-0.824914</td>\n",
       "      <td>2.670378</td>\n",
       "      <td>0.30404</td>\n",
       "      <td>-0.925062</td>\n",
       "      <td>-0.466166</td>\n",
       "      <td>0.359112</td>\n",
       "      <td>1.267564</td>\n",
       "      <td>0.271213</td>\n",
       "      <td>-0.945126</td>\n",
       "      <td>1.67886</td>\n",
       "    </tr>\n",
       "  </tbody>\n",
       "</table>\n",
       "<p>5 rows × 131 columns</p>\n",
       "</div>"
      ],
      "text/plain": [
       "      1stFlrSF__log1p  2ndFlrSF__log1p  BedroomAbvGr  BsmtCond__cat  \\\n",
       "Id                                                                    \n",
       "1461        -0.635877        -0.863610     -1.045801       0.138318   \n",
       "1462         0.585094        -0.863610      0.169927       0.138318   \n",
       "1463        -0.527218         1.136698      0.169927       0.138318   \n",
       "1464        -0.533898         1.126531      0.169927       0.138318   \n",
       "1465         0.468732        -0.863610     -1.045801       0.138318   \n",
       "\n",
       "      BsmtExposure__cat  BsmtMeanRating  BsmtQual__cat  BsmtUnfSF__sqrt  \\\n",
       "Id                                                                        \n",
       "1461          -0.584669        0.076651      -0.628746        -0.464405   \n",
       "1462          -0.584669        0.492535      -0.628746        -0.107240   \n",
       "1463          -0.584669        0.908418       0.612167        -0.918525   \n",
       "1464          -0.584669        0.908418      -0.628746        -0.313737   \n",
       "1465          -0.584669        0.492535       0.612167         1.020715   \n",
       "\n",
       "      ExterCond__cat  ExterQual__cat   ...     SeasonSold_Summer  \\\n",
       "Id                                     ...                         \n",
       "1461       -0.230047       -0.683756   ...              1.212247   \n",
       "1462       -0.230047       -0.683756   ...              1.212247   \n",
       "1463       -0.230047       -0.683756   ...             -0.824914   \n",
       "1464       -0.230047       -0.683756   ...              1.212247   \n",
       "1465       -0.230047        1.039805   ...             -0.824914   \n",
       "\n",
       "      SeasonSold_Winter  StdElectrical  TotRmsAbvGrd  TotalBathrooms  \\\n",
       "Id                                                                     \n",
       "1461          -0.374479        0.30404     -0.925062       -1.527586   \n",
       "1462          -0.374479        0.30404     -0.287758       -0.466166   \n",
       "1463          -0.374479        0.30404     -0.287758        0.595253   \n",
       "1464          -0.374479        0.30404      0.349546        0.595253   \n",
       "1465           2.670378        0.30404     -0.925062       -0.466166   \n",
       "\n",
       "      TotalBsmtSF__log1p  TotalPorchSF  TypicalFunc  WoodDeckSF__log1p  \\\n",
       "Id                                                                       \n",
       "1461            0.044400      0.285030     0.271213           0.964198   \n",
       "1462            0.390863     -0.493582     0.271213           1.360662   \n",
       "1463            0.087354     -0.512120     0.271213           1.123361   \n",
       "1464            0.085531     -0.493582     0.271213           1.326913   \n",
       "1465            0.359112      1.267564     0.271213          -0.945126   \n",
       "\n",
       "       YrSold  \n",
       "Id             \n",
       "1461  1.67886  \n",
       "1462  1.67886  \n",
       "1463  1.67886  \n",
       "1464  1.67886  \n",
       "1465  1.67886  \n",
       "\n",
       "[5 rows x 131 columns]"
      ]
     },
     "execution_count": 7,
     "metadata": {},
     "output_type": "execute_result"
    }
   ],
   "source": [
    "df_test.head()"
   ]
  },
  {
   "cell_type": "code",
   "execution_count": 8,
   "metadata": {
    "collapsed": true
   },
   "outputs": [],
   "source": [
    "X_train = df_train.drop('SalePrice__log1p', axis=1).values\n",
    "y_train = df_train['SalePrice__log1p'].values"
   ]
  },
  {
   "cell_type": "code",
   "execution_count": 9,
   "metadata": {
    "collapsed": false
   },
   "outputs": [
    {
     "data": {
      "text/plain": [
       "((1460, 131), (1460,))"
      ]
     },
     "execution_count": 9,
     "metadata": {},
     "output_type": "execute_result"
    }
   ],
   "source": [
    "X_train.shape, y_train.shape"
   ]
  },
  {
   "cell_type": "code",
   "execution_count": 10,
   "metadata": {
    "collapsed": false
   },
   "outputs": [],
   "source": [
    "X_test = df_test.values"
   ]
  },
  {
   "cell_type": "code",
   "execution_count": 11,
   "metadata": {
    "collapsed": false
   },
   "outputs": [
    {
     "data": {
      "text/plain": [
       "(1459, 131)"
      ]
     },
     "execution_count": 11,
     "metadata": {},
     "output_type": "execute_result"
    }
   ],
   "source": [
    "X_test.shape"
   ]
  },
  {
   "cell_type": "code",
   "execution_count": 12,
   "metadata": {
    "collapsed": false
   },
   "outputs": [
    {
     "data": {
      "text/plain": [
       "['1stFlrSF__log1p',\n",
       " '2ndFlrSF__log1p',\n",
       " 'BedroomAbvGr',\n",
       " 'BsmtCond__cat',\n",
       " 'BsmtExposure__cat',\n",
       " 'BsmtMeanRating',\n",
       " 'BsmtQual__cat',\n",
       " 'BsmtUnfSF__sqrt',\n",
       " 'ExterCond__cat',\n",
       " 'ExterQual__cat',\n",
       " 'Exterior1st__cat_BrkFace',\n",
       " 'Exterior1st__cat_CemntBd',\n",
       " 'Exterior1st__cat_HdBoard',\n",
       " 'Exterior1st__cat_MetalSd',\n",
       " 'Exterior1st__cat_Other',\n",
       " 'Exterior1st__cat_Plywood',\n",
       " 'Exterior1st__cat_VinylSd',\n",
       " 'Exterior1st__cat_Wd Sdng',\n",
       " 'Exterior1st__cat_WdShing',\n",
       " 'Exterior2nd__cat_AsphShn',\n",
       " 'Exterior2nd__cat_CmentBd',\n",
       " 'Exterior2nd__cat_HdBoard',\n",
       " 'Exterior2nd__cat_ImStucc',\n",
       " 'Exterior2nd__cat_MetalSd',\n",
       " 'Exterior2nd__cat_Other',\n",
       " 'Exterior2nd__cat_Plywood',\n",
       " 'Exterior2nd__cat_VinylSd',\n",
       " 'Exterior2nd__cat_Wd Sdng',\n",
       " 'Exterior2nd__cat_Wd Shng',\n",
       " 'FireplacesQu',\n",
       " 'Foundation__cat_BrkTil',\n",
       " 'Foundation__cat_CBlock',\n",
       " 'Foundation__cat_Other',\n",
       " 'Foundation__cat_PConc',\n",
       " 'GarageAge',\n",
       " 'GarageArea__sqrt',\n",
       " 'GarageCond__cat',\n",
       " 'GarageFinish__cat',\n",
       " 'GarageQual__cat',\n",
       " 'GarageType__cat_Attchd',\n",
       " 'GarageType__cat_BuiltIn',\n",
       " 'GarageType__cat_Detchd',\n",
       " 'GarageType__cat_NA',\n",
       " 'GarageType__cat_Other',\n",
       " 'GrLivArea__log1p',\n",
       " 'HasBsmt',\n",
       " 'HasFence',\n",
       " 'HasGarage',\n",
       " 'HasSlope',\n",
       " 'HeatingQC__cat',\n",
       " 'HouseAge',\n",
       " 'HouseStyle__cat_1.5Fin',\n",
       " 'HouseStyle__cat_1Story',\n",
       " 'HouseStyle__cat_2Story',\n",
       " 'HouseStyle__cat_Other',\n",
       " 'HouseStyle__cat_SFoyer',\n",
       " 'HouseStyle__cat_SLvl',\n",
       " 'KitchenAbvGr',\n",
       " 'KitchenQual__cat',\n",
       " 'LotArea__log1p',\n",
       " 'LotConfig__cat_Corner',\n",
       " 'LotConfig__cat_CulDSac',\n",
       " 'LotConfig__cat_FR2',\n",
       " 'LotConfig__cat_Inside',\n",
       " 'LotFrontage__log1p',\n",
       " 'LotShape__cat',\n",
       " 'MSSubClass__cat_020',\n",
       " 'MSSubClass__cat_030',\n",
       " 'MSSubClass__cat_050',\n",
       " 'MSSubClass__cat_060',\n",
       " 'MSSubClass__cat_070',\n",
       " 'MSSubClass__cat_080',\n",
       " 'MSSubClass__cat_090',\n",
       " 'MSSubClass__cat_120',\n",
       " 'MSSubClass__cat_160',\n",
       " 'MSSubClass__cat_190',\n",
       " 'MSSubClass__cat_Other',\n",
       " 'MSZoning__cat_FV',\n",
       " 'MSZoning__cat_Other',\n",
       " 'MSZoning__cat_RL',\n",
       " 'MSZoning__cat_RM',\n",
       " 'MasVnrArea__log1p',\n",
       " 'MasVnrType__cat_BrkCmn',\n",
       " 'MasVnrType__cat_BrkFace',\n",
       " 'MasVnrType__cat_None',\n",
       " 'MasVnrType__cat_Stone',\n",
       " 'Neighborhood__cat_BrkSide',\n",
       " 'Neighborhood__cat_CollgCr',\n",
       " 'Neighborhood__cat_Crawfor',\n",
       " 'Neighborhood__cat_Edwards',\n",
       " 'Neighborhood__cat_Gilbert',\n",
       " 'Neighborhood__cat_IDOTRR',\n",
       " 'Neighborhood__cat_Mitchel',\n",
       " 'Neighborhood__cat_NAmes',\n",
       " 'Neighborhood__cat_NWAmes',\n",
       " 'Neighborhood__cat_NoRidge',\n",
       " 'Neighborhood__cat_NridgHt',\n",
       " 'Neighborhood__cat_OldTown',\n",
       " 'Neighborhood__cat_Other',\n",
       " 'Neighborhood__cat_Sawyer',\n",
       " 'Neighborhood__cat_SawyerW',\n",
       " 'Neighborhood__cat_Somerst',\n",
       " 'Neighborhood__cat_StoneBr',\n",
       " 'Neighborhood__cat_Timber',\n",
       " 'OverallCond',\n",
       " 'OverallQual',\n",
       " 'PavedDrive__cat',\n",
       " 'RemodAdd',\n",
       " 'RoofStyle__cat_Gable',\n",
       " 'RoofStyle__cat_Hip',\n",
       " 'RoofStyle__cat_Other',\n",
       " 'SaleCondition__cat_Abnorml',\n",
       " 'SaleCondition__cat_Normal',\n",
       " 'SaleCondition__cat_Other',\n",
       " 'SaleCondition__cat_Partial',\n",
       " 'SaleType__cat_COD',\n",
       " 'SaleType__cat_New',\n",
       " 'SaleType__cat_Other',\n",
       " 'SaleType__cat_WD',\n",
       " 'SeasonSold_Fall',\n",
       " 'SeasonSold_Spring',\n",
       " 'SeasonSold_Summer',\n",
       " 'SeasonSold_Winter',\n",
       " 'StdElectrical',\n",
       " 'TotRmsAbvGrd',\n",
       " 'TotalBathrooms',\n",
       " 'TotalBsmtSF__log1p',\n",
       " 'TotalPorchSF',\n",
       " 'TypicalFunc',\n",
       " 'WoodDeckSF__log1p',\n",
       " 'YrSold',\n",
       " 'SalePrice__log1p']"
      ]
     },
     "execution_count": 12,
     "metadata": {},
     "output_type": "execute_result"
    }
   ],
   "source": [
    "feature_names = df_train.columns.tolist()\n",
    "feature_names"
   ]
  },
  {
   "cell_type": "markdown",
   "metadata": {},
   "source": [
    "The training and test data sets were already cleaned and transformed in the preprocesing step, so I just loaded the data and separated the independent variables (X) from the dependent variable that we want to learn to predict (y)."
   ]
  },
  {
   "cell_type": "markdown",
   "metadata": {},
   "source": [
    "## Feature selection"
   ]
  },
  {
   "cell_type": "code",
   "execution_count": 13,
   "metadata": {
    "collapsed": true
   },
   "outputs": [],
   "source": [
    "def select_features(X, y, feature_names=None):\n",
    "    \"\"\"Uses a LASSO regression model to select the most relevant features.\n",
    "    \n",
    "    Inputs:\n",
    "        X  Training samples (independent variables).\n",
    "        y  Training targets (dependent variable).\n",
    "    \n",
    "    Outputs:\n",
    "        X_sel     Training samples with a lower number of features.\n",
    "        selector  Selector object.\n",
    "    \"\"\"\n",
    "    from sklearn.feature_selection import SelectFromModel\n",
    "    from sklearn.linear_model import LassoCV\n",
    "\n",
    "    lasso_cv = LassoCV(alphas=np.logspace(-5, 5, 21), random_state=42)\n",
    "    selector = SelectFromModel(lasso_cv)\n",
    "    X_sel = selector.fit_transform(X, y)\n",
    "\n",
    "    if feature_names:\n",
    "        selected = np.array(feature_names)[selector.get_support()].tolist()\n",
    "        print('Selected features: %d', len(selected))\n",
    "        print(selected)\n",
    "\n",
    "    return X_sel, selector"
   ]
  },
  {
   "cell_type": "code",
   "execution_count": 14,
   "metadata": {
    "collapsed": true
   },
   "outputs": [],
   "source": [
    "# X_train_sel, selector = select_features(X_train, y_train, feature_names)\n",
    "# X_test_sel = selector.transform(X_test)\n",
    "X_train_sel = X_train\n",
    "X_test_sel = X_test"
   ]
  },
  {
   "cell_type": "code",
   "execution_count": 15,
   "metadata": {
    "collapsed": false
   },
   "outputs": [
    {
     "data": {
      "text/plain": [
       "((1460, 131), (1459, 131))"
      ]
     },
     "execution_count": 15,
     "metadata": {},
     "output_type": "execute_result"
    }
   ],
   "source": [
    "X_train_sel.shape, X_test_sel.shape"
   ]
  },
  {
   "cell_type": "markdown",
   "metadata": {},
   "source": [
    "As the training samples contain a lot of features (131), applying some feature selection technique in order to throw out potentially irrelevant features, thus making our model simpler, seems a good idea. I used a LASSO model to do this job."
   ]
  },
  {
   "cell_type": "markdown",
   "metadata": {},
   "source": [
    "**NOTE:** Later it turned out that NOT doing feature selection at all was better for the final model (it achieved better results on Kaggle's leaderboard). Or at least this is true for LASSO-based feature selection. Other techniques (e.g. Random Forest) may provide different results. I shall try them later."
   ]
  },
  {
   "cell_type": "markdown",
   "metadata": {},
   "source": [
    "## Model training (and parameter tuning)"
   ]
  },
  {
   "cell_type": "code",
   "execution_count": 16,
   "metadata": {
    "collapsed": true
   },
   "outputs": [],
   "source": [
    "from sklearn.metrics import make_scorer"
   ]
  },
  {
   "cell_type": "code",
   "execution_count": 17,
   "metadata": {
    "collapsed": true
   },
   "outputs": [],
   "source": [
    "def rmsle(y, y_pred):\n",
    "    \"\"\"Computes the root mean squared logarithmic error (RMSLE) metric.\n",
    "    \n",
    "    Inputs:\n",
    "        y       Actual target values.\n",
    "        y_pred  Predicted target values.\n",
    "    \n",
    "    Outputs:\n",
    "        RMSLE value.\n",
    "    \"\"\"\n",
    "    msle = np.sum((np.log1p(y) - np.log1p(y_pred))**2) / np.prod(y_pred.shape)\n",
    "    return np.sqrt(msle)"
   ]
  },
  {
   "cell_type": "markdown",
   "metadata": {},
   "source": [
    "### LASSO model"
   ]
  },
  {
   "cell_type": "code",
   "execution_count": 18,
   "metadata": {
    "collapsed": true
   },
   "outputs": [],
   "source": [
    "def train_lasso(X, y):\n",
    "    \"\"\"Trains a tuned LASSO regression model using grid search and 10-fold\n",
    "    cross-validation.\n",
    "    \n",
    "    Inputs:\n",
    "        X  Training samples (independent variables).\n",
    "        y  Training targets (dependent variables).\n",
    "    \n",
    "    Outputs:\n",
    "        Tuned LASSO regression model.\n",
    "    \"\"\"\n",
    "    from sklearn.linear_model import Lasso\n",
    "    from sklearn.model_selection import GridSearchCV\n",
    "\n",
    "    lasso_gs = GridSearchCV(\n",
    "        estimator=Lasso(max_iter=10000, random_state=42),\n",
    "        scoring=make_scorer(rmsle, greater_is_better=False),\n",
    "        param_grid={\n",
    "            'alpha': np.logspace(-5, 5, 21)\n",
    "        },\n",
    "        cv=10,\n",
    "        n_jobs=-1,\n",
    "        verbose=1,\n",
    "    ).fit(X, y)\n",
    "\n",
    "    print('Best score:', lasso_gs.best_score_)\n",
    "    print('Best params:', lasso_gs.best_params_)\n",
    "\n",
    "    return lasso_gs.best_estimator_.fit(X, y)"
   ]
  },
  {
   "cell_type": "code",
   "execution_count": 19,
   "metadata": {
    "collapsed": false
   },
   "outputs": [
    {
     "name": "stdout",
     "output_type": "stream",
     "text": [
      "Fitting 10 folds for each of 21 candidates, totalling 210 fits\n"
     ]
    },
    {
     "name": "stderr",
     "output_type": "stream",
     "text": [
      "[Parallel(n_jobs=-1)]: Done  46 tasks      | elapsed:   28.8s\n",
      "[Parallel(n_jobs=-1)]: Done 207 out of 210 | elapsed:   38.0s remaining:    0.6s\n",
      "[Parallel(n_jobs=-1)]: Done 210 out of 210 | elapsed:   38.0s finished\n"
     ]
    },
    {
     "name": "stdout",
     "output_type": "stream",
     "text": [
      "Best score: -0.00969556366911\n",
      "Best params: {'alpha': 0.0031622776601683794}\n"
     ]
    }
   ],
   "source": [
    "lasso = train_lasso(X_train_sel, y_train)"
   ]
  },
  {
   "cell_type": "markdown",
   "metadata": {},
   "source": [
    "LASSO is a linear regression model that uses L1-regularization. In order to get the best results from it, we have to set a good value for the `alpha` parameter, which determines the amount of regularization it uses when fitting the data. Here I used grid search and a 10-fold cross-validation process to find the best value for `alpha`."
   ]
  },
  {
   "cell_type": "markdown",
   "metadata": {},
   "source": [
    "### XGBoost model"
   ]
  },
  {
   "cell_type": "code",
   "execution_count": 20,
   "metadata": {
    "collapsed": true
   },
   "outputs": [],
   "source": [
    "def train_xgboost(X, y):\n",
    "    \"\"\"Trains a tuned XGBoost regression model using grid search and 10-fold\n",
    "    cross-validation.\n",
    "    \n",
    "    Inputs:\n",
    "        X  Training samples (independent variables).\n",
    "        y  Training targets (dependent variables).\n",
    "    \n",
    "    Outputs:\n",
    "        Tuned XGBoost regression model.\n",
    "    \"\"\"\n",
    "    from xgboost import XGBRegressor\n",
    "    from sklearn.model_selection import GridSearchCV\n",
    "\n",
    "    # # Tune n_estimators.\n",
    "    # xgb_gs = GridSearchCV(\n",
    "    #     estimator=XGBRegressor(\n",
    "    #         max_depth=4,\n",
    "    #         min_child_weight=1,\n",
    "    #         gamma=0,\n",
    "    #         subsample=0.8,\n",
    "    #         colsample_bytree=0.8,\n",
    "    #         seed=42),\n",
    "    #     scoring=make_scorer(rmsle, greater_is_better=False),\n",
    "    #     param_grid={\n",
    "    #         'n_estimators': np.linspace(100, 1000, 10, dtype=int)\n",
    "    #     },\n",
    "    #     cv=10,\n",
    "    #     n_jobs=-1,\n",
    "    #     verbose=1,\n",
    "    # ).fit(X, y)\n",
    "    # print('Best score:', xgb_gs.best_score_)\n",
    "    # print('Best params:', xgb_gs.best_params_)\n",
    "\n",
    "    # # Tune max_depth and min_child_weight.\n",
    "    # xgb_gs = GridSearchCV(\n",
    "    #     estimator=XGBRegressor(\n",
    "    #         gamma=0,\n",
    "    #         subsample=0.8,\n",
    "    #         colsample_bytree=0.8,\n",
    "    #         seed=42),\n",
    "    #     scoring=make_scorer(rmsle, greater_is_better=False),\n",
    "    #     param_grid={\n",
    "    #         'n_estimators': [xgb_gs.best_params_['n_estimators']],\n",
    "    #         'max_depth': np.linspace(2, 6, 5, dtype=int),\n",
    "    #         'min_child_weight': np.linspace(1, 3, 5),\n",
    "    #     },\n",
    "    #     cv=10,\n",
    "    #     n_jobs=-1,\n",
    "    #     verbose=1,\n",
    "    # ).fit(X, y)\n",
    "    # print('Best score:', xgb_gs.best_score_)\n",
    "    # print('Best params:', xgb_gs.best_params_)\n",
    "\n",
    "    # # Tune gamma.\n",
    "    # xgb_gs = GridSearchCV(\n",
    "    #     estimator=XGBRegressor(\n",
    "    #         subsample=0.8,\n",
    "    #         colsample_bytree=0.8,\n",
    "    #         seed=42),\n",
    "    #     scoring=make_scorer(rmsle, greater_is_better=False),\n",
    "    #     param_grid={\n",
    "    #         'n_estimators': [xgb_gs.best_params_['n_estimators']],\n",
    "    #         'max_depth': [xgb_gs.best_params_['max_depth']],\n",
    "    #         'min_child_weight': [xgb_gs.best_params_['min_child_weight']],\n",
    "    #         'gamma': np.linspace(0, 0.1, 11),\n",
    "    #     },\n",
    "    #     cv=10,\n",
    "    #     n_jobs=-1,\n",
    "    #     verbose=1,\n",
    "    # ).fit(X, y)\n",
    "    # print('Best score:', xgb_gs.best_score_)\n",
    "    # print('Best params:', xgb_gs.best_params_)\n",
    "\n",
    "    # # Tune subsample and colsample_bytree.\n",
    "    # xgb_gs = GridSearchCV(\n",
    "    #     estimator=XGBRegressor(\n",
    "    #         seed=42),\n",
    "    #     scoring=make_scorer(rmsle, greater_is_better=False),\n",
    "    #     param_grid={\n",
    "    #         'n_estimators': [xgb_gs.best_params_['n_estimators']],\n",
    "    #         'max_depth': [xgb_gs.best_params_['max_depth']],\n",
    "    #         'min_child_weight': [xgb_gs.best_params_['min_child_weight']],\n",
    "    #         'gamma': [xgb_gs.best_params_['gamma']],\n",
    "    #         'subsample': np.linspace(0.6, 0.9, 4),\n",
    "    #         'colsample_bytree': np.linspace(0.6, 0.9, 4),\n",
    "    #     },\n",
    "    #     cv=10,\n",
    "    #     n_jobs=-1,\n",
    "    #     verbose=1,\n",
    "    # ).fit(X, y)\n",
    "    # print('Best score:', xgb_gs.best_score_)\n",
    "    # print('Best params:', xgb_gs.best_params_)\n",
    "\n",
    "    # # Tune reg_alpha and reg_lambda.\n",
    "    # xgb_gs = GridSearchCV(\n",
    "    #     estimator=XGBRegressor(\n",
    "    #         seed=42),\n",
    "    #     scoring=make_scorer(rmsle, greater_is_better=False),\n",
    "    #     param_grid={\n",
    "    #         'n_estimators': [xgb_gs.best_params_['n_estimators']],\n",
    "    #         'max_depth': [xgb_gs.best_params_['max_depth']],\n",
    "    #         'min_child_weight': [xgb_gs.best_params_['min_child_weight']],\n",
    "    #         'gamma': [xgb_gs.best_params_['gamma']],\n",
    "    #         'subsample': [xgb_gs.best_params_['subsample']],\n",
    "    #         'colsample_bytree': [xgb_gs.best_params_['colsample_bytree']],\n",
    "    #         'reg_alpha': np.linspace(0, 1, 4),\n",
    "    #         'reg_lambda': np.linspace(0, 1, 4),\n",
    "    #     },\n",
    "    #     cv=10,\n",
    "    #     n_jobs=-1,\n",
    "    #     verbose=1,\n",
    "    # ).fit(X, y)\n",
    "    # print('Best score:', xgb_gs.best_score_)\n",
    "    # print('Best params:', xgb_gs.best_params_)\n",
    "\n",
    "    # # Set a lower learning_rate and increase n_estimators.\n",
    "    # xgb = XGBRegressor(\n",
    "    #     learning_rate=0.01,\n",
    "    #     n_estimators=xgb_gs.best_params_['n_estimators'] * 10,\n",
    "    #     max_depth=xgb_gs.best_params_['max_depth'],\n",
    "    #     min_child_weight=xgb_gs.best_params_['min_child_weight'],\n",
    "    #     gamma=xgb_gs.best_params_['gamma'],\n",
    "    #     subsample=xgb_gs.best_params_['subsample'],\n",
    "    #     colsample_bytree=xgb_gs.best_params_['colsample_bytree'],\n",
    "    #     reg_alpha=xgb_gs.best_params_['reg_alpha'],\n",
    "    #     reg_lambda=xgb_gs.best_params_['reg_lambda'],\n",
    "    #     seed=42,\n",
    "    # )\n",
    "\n",
    "    # Final estimator (best score).\n",
    "    xgb = XGBRegressor(\n",
    "        learning_rate=0.005,\n",
    "        n_estimators=10000,\n",
    "        max_depth=3,\n",
    "        min_child_weight=1,\n",
    "        gamma=0,\n",
    "        subsample=0.9,\n",
    "        colsample_bytree=0.6,\n",
    "        reg_alpha=0,\n",
    "        reg_lambda=1,\n",
    "        seed=42,\n",
    "    )\n",
    "\n",
    "    return xgb.fit(X, y)"
   ]
  },
  {
   "cell_type": "code",
   "execution_count": 21,
   "metadata": {
    "collapsed": false
   },
   "outputs": [
    {
     "name": "stderr",
     "output_type": "stream",
     "text": [
      "/home/chvillap/anaconda3/lib/python3.5/site-packages/sklearn/cross_validation.py:44: DeprecationWarning: This module was deprecated in version 0.18 in favor of the model_selection module into which all the refactored classes and functions are moved. Also note that the interface of the new CV iterators are different from that of this module. This module will be removed in 0.20.\n",
      "  \"This module will be removed in 0.20.\", DeprecationWarning)\n"
     ]
    }
   ],
   "source": [
    "xgb = train_xgboost(X_train_sel, y_train)"
   ]
  },
  {
   "cell_type": "markdown",
   "metadata": {},
   "source": [
    "XGBoost regression is a very efficient gradient boosting algorithm. It has a lot of parameters whose values need to be properly tuned. Here this process was done in little steps, always using grid search and 10-fold cross-validation. In the end, I kept the best parameter values and used them to build the model directly."
   ]
  },
  {
   "cell_type": "markdown",
   "metadata": {},
   "source": [
    "## Learning curves"
   ]
  },
  {
   "cell_type": "code",
   "execution_count": 22,
   "metadata": {
    "collapsed": true
   },
   "outputs": [],
   "source": [
    "from copy import deepcopy"
   ]
  },
  {
   "cell_type": "code",
   "execution_count": 23,
   "metadata": {
    "collapsed": true
   },
   "outputs": [],
   "source": [
    "def plot_learning_curves(estimators, title, X, y, ylim=None, cv=None,\n",
    "                         scoring=make_scorer(rmsle, greater_is_better=False),\n",
    "                         train_sizes=np.linspace(0.1, 1, 5), n_jobs=-1):\n",
    "    \"\"\"Plots training and validation errors for increasingly bigger portions of\n",
    "    the data set, showing the learning progress.\n",
    "    \n",
    "    Inputs:\n",
    "        estimators    List of models to evaluate.\n",
    "        title         Graph title.\n",
    "        X             Training/validation samples (independent variables).\n",
    "        y             Training/validation targets (dependent variables).\n",
    "        ylim          Limits of the displayed y values in the graph.\n",
    "        cv            Cross-validation object or number of folds.\n",
    "        scoring       Scoring function that evaluates the models.\n",
    "        train_sizes   Portions of the training set used in the evaluations.\n",
    "        n_jobs        Number of jobs (threads).\n",
    "    \n",
    "    Outputs:\n",
    "        None\n",
    "    \"\"\"\n",
    "    from sklearn.model_selection import learning_curve\n",
    "\n",
    "    palette = sns.color_palette()\n",
    "\n",
    "    for i in range(len(estimators)):\n",
    "        train_sizes, train_scores, valid_scores = learning_curve(\n",
    "            estimators[i], X, y, cv=cv, scoring=scoring,\n",
    "            train_sizes=train_sizes, n_jobs=n_jobs)\n",
    "\n",
    "        train_scores_mean = np.mean(train_scores, axis=1)\n",
    "        train_scores_std = np.std(train_scores, axis=1)\n",
    "        valid_scores_mean = np.mean(valid_scores, axis=1)\n",
    "        valid_scores_std = np.std(valid_scores, axis=1)\n",
    "\n",
    "        sns.plt.plot(train_sizes, train_scores_mean, 'o--', color=palette[i],\n",
    "            label=type(estimators[i]).__name__ + ' (train)')\n",
    "        sns.plt.fill_between(train_sizes, train_scores_mean - train_scores_std,\n",
    "            train_scores_mean + train_scores_std, alpha=0.1, color=palette[i])\n",
    "\n",
    "        sns.plt.plot(train_sizes, valid_scores_mean, 'o-', color=palette[i],\n",
    "            label=type(estimators[i]).__name__ + ' (cv)')\n",
    "        sns.plt.fill_between(train_sizes, valid_scores_mean - valid_scores_std,\n",
    "            valid_scores_mean + valid_scores_std, alpha=0.1, color=palette[i])\n",
    "\n",
    "    if ylim is not None:\n",
    "        sns.plt.ylim(*ylim)\n",
    "\n",
    "    sns.plt.grid('on')\n",
    "    sns.plt.legend(loc='best')\n",
    "    sns.plt.show()"
   ]
  },
  {
   "cell_type": "code",
   "execution_count": 24,
   "metadata": {
    "collapsed": false
   },
   "outputs": [
    {
     "data": {
      "image/png": "[encoded data removed]",
      "text/plain": [
       "<matplotlib.figure.Figure at 0xaab3aacc>"
      ]
     },
     "metadata": {},
     "output_type": "display_data"
    }
   ],
   "source": [
    "plot_learning_curves([deepcopy(lasso), deepcopy(xgb)], 'Learning Curves',\n",
    "                     X_train_sel, y_train, ylim=(-0.04, 0), cv=5, n_jobs=-1)"
   ]
  },
  {
   "cell_type": "markdown",
   "metadata": {},
   "source": [
    "Learning curves are a graphical technique used to evaluate the performance of predictive models. They plot the training and validation errors for an increasingly quantity of training samples, thus showing how the learning evolves as we feed the algorithm with more and more data.\n",
    "\n",
    "The curves in the graph above show that both models are doing a fine job in predicting the outputs for the validation samples (the metric is RMSLE, so \"more negative\" means \"worse\"). The XGBoost regressor would be especially benefited if we had more training samples in the data set (it looks like it would continue to improve significantly)."
   ]
  },
  {
   "cell_type": "markdown",
   "metadata": {},
   "source": [
    "## Making predictions"
   ]
  },
  {
   "cell_type": "code",
   "execution_count": 25,
   "metadata": {
    "collapsed": true
   },
   "outputs": [],
   "source": [
    "y_test_lasso = np.expm1(lasso.predict(X_test_sel))"
   ]
  },
  {
   "cell_type": "code",
   "execution_count": 26,
   "metadata": {
    "collapsed": true
   },
   "outputs": [],
   "source": [
    "y_test_xgb = np.expm1(xgb.predict(X_test_sel))"
   ]
  },
  {
   "cell_type": "code",
   "execution_count": 27,
   "metadata": {
    "collapsed": true
   },
   "outputs": [],
   "source": [
    "y_test = 0.65 * y_test_lasso + 0.35 * y_test_xgb"
   ]
  },
  {
   "cell_type": "markdown",
   "metadata": {},
   "source": [
    "Since the target values were transformed in the preprocessing step, they had to be transformed back after the predictions were made. Then, the results from both LASSO and XGBoost model were combined with a weighted average. The weights were chosen kinda arbitrarily: the LASSO model had lower variance and therefore it should have a greater influence in the final predictions, so I tested different weight values in the competition's test set until I got the best ones."
   ]
  },
  {
   "cell_type": "code",
   "execution_count": 28,
   "metadata": {
    "collapsed": true
   },
   "outputs": [],
   "source": [
    "df_submission = pd.DataFrame(data={'SalePrice': y_test,\n",
    "                                   'SalePrice_lasso': y_test_lasso,\n",
    "                                   'SalePrice_xgb': y_test_xgb},\n",
    "                             index=df_test.index)"
   ]
  },
  {
   "cell_type": "code",
   "execution_count": 29,
   "metadata": {
    "collapsed": false
   },
   "outputs": [
    {
     "data": {
      "text/html": [
       "<div>\n",
       "<table border=\"1\" class=\"dataframe\">\n",
       "  <thead>\n",
       "    <tr style=\"text-align: right;\">\n",
       "      <th></th>\n",
       "      <th>SalePrice</th>\n",
       "      <th>SalePrice_lasso</th>\n",
       "      <th>SalePrice_xgb</th>\n",
       "    </tr>\n",
       "    <tr>\n",
       "      <th>Id</th>\n",
       "      <th></th>\n",
       "      <th></th>\n",
       "      <th></th>\n",
       "    </tr>\n",
       "  </thead>\n",
       "  <tbody>\n",
       "    <tr>\n",
       "      <th>1461</th>\n",
       "      <td>114810.507901</td>\n",
       "      <td>111567.860713</td>\n",
       "      <td>120832.570312</td>\n",
       "    </tr>\n",
       "    <tr>\n",
       "      <th>1462</th>\n",
       "      <td>161322.396856</td>\n",
       "      <td>159242.167037</td>\n",
       "      <td>165185.687500</td>\n",
       "    </tr>\n",
       "    <tr>\n",
       "      <th>1463</th>\n",
       "      <td>178782.709805</td>\n",
       "      <td>174360.605228</td>\n",
       "      <td>186995.187500</td>\n",
       "    </tr>\n",
       "    <tr>\n",
       "      <th>1464</th>\n",
       "      <td>192145.035375</td>\n",
       "      <td>191191.376539</td>\n",
       "      <td>193916.125000</td>\n",
       "    </tr>\n",
       "    <tr>\n",
       "      <th>1465</th>\n",
       "      <td>196360.075843</td>\n",
       "      <td>204401.823412</td>\n",
       "      <td>181425.406250</td>\n",
       "    </tr>\n",
       "    <tr>\n",
       "      <th>1466</th>\n",
       "      <td>170030.580623</td>\n",
       "      <td>169324.661295</td>\n",
       "      <td>171341.578125</td>\n",
       "    </tr>\n",
       "    <tr>\n",
       "      <th>1467</th>\n",
       "      <td>174987.384501</td>\n",
       "      <td>177066.228560</td>\n",
       "      <td>171126.671875</td>\n",
       "    </tr>\n",
       "    <tr>\n",
       "      <th>1468</th>\n",
       "      <td>162603.516231</td>\n",
       "      <td>161431.869922</td>\n",
       "      <td>164779.437500</td>\n",
       "    </tr>\n",
       "    <tr>\n",
       "      <th>1469</th>\n",
       "      <td>193710.893055</td>\n",
       "      <td>198204.138354</td>\n",
       "      <td>185366.296875</td>\n",
       "    </tr>\n",
       "    <tr>\n",
       "      <th>1470</th>\n",
       "      <td>119940.812657</td>\n",
       "      <td>116274.056732</td>\n",
       "      <td>126750.507812</td>\n",
       "    </tr>\n",
       "  </tbody>\n",
       "</table>\n",
       "</div>"
      ],
      "text/plain": [
       "          SalePrice  SalePrice_lasso  SalePrice_xgb\n",
       "Id                                                 \n",
       "1461  114810.507901    111567.860713  120832.570312\n",
       "1462  161322.396856    159242.167037  165185.687500\n",
       "1463  178782.709805    174360.605228  186995.187500\n",
       "1464  192145.035375    191191.376539  193916.125000\n",
       "1465  196360.075843    204401.823412  181425.406250\n",
       "1466  170030.580623    169324.661295  171341.578125\n",
       "1467  174987.384501    177066.228560  171126.671875\n",
       "1468  162603.516231    161431.869922  164779.437500\n",
       "1469  193710.893055    198204.138354  185366.296875\n",
       "1470  119940.812657    116274.056732  126750.507812"
      ]
     },
     "execution_count": 29,
     "metadata": {},
     "output_type": "execute_result"
    }
   ],
   "source": [
    "df_submission.head(10)"
   ]
  },
  {
   "cell_type": "code",
   "execution_count": 30,
   "metadata": {
    "collapsed": true
   },
   "outputs": [],
   "source": [
    "df_submission[['SalePrice']].to_csv('submission.csv')"
   ]
  },
  {
   "cell_type": "markdown",
   "metadata": {},
   "source": [
    "Finally, the predicted prices were saved in a CSV file ready to be submitted to Kaggle.\n",
    "\n",
    "With this solution, an RMSLE score of **0.12176** was achieved in the competition's test set."
   ]
  },
  {
   "cell_type": "code",
   "execution_count": null,
   "metadata": {
    "collapsed": true
   },
   "outputs": [],
   "source": []
  }
 ],
 "metadata": {
  "anaconda-cloud": {},
  "kernelspec": {
   "display_name": "Python [conda root]",
   "language": "python",
   "name": "conda-root-py"
  },
  "language_info": {
   "codemirror_mode": {
    "name": "ipython",
    "version": 3
   },
   "file_extension": ".py",
   "mimetype": "text/x-python",
   "name": "python",
   "nbconvert_exporter": "python",
   "pygments_lexer": "ipython3",
   "version": "3.5.2"
  }
 },
 "nbformat": 4,
 "nbformat_minor": 1
}
