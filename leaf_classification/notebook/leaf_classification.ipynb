{
 "cells": [
  {
   "cell_type": "markdown",
   "metadata": {},
   "source": [
    "# Leaf Classification"
   ]
  },
  {
   "cell_type": "code",
   "execution_count": null,
   "metadata": {
    "collapsed": true
   },
   "outputs": [],
   "source": [
    "%matplotlib inline"
   ]
  },
  {
   "cell_type": "code",
   "execution_count": null,
   "metadata": {
    "collapsed": true
   },
   "outputs": [],
   "source": [
    "import numpy as np\n",
    "import pandas as pd\n",
    "import seaborn as sns"
   ]
  },
  {
   "cell_type": "code",
   "execution_count": null,
   "metadata": {
    "collapsed": true
   },
   "outputs": [],
   "source": [
    "df_train = pd.read_csv('../datasets/train.csv', index_col=0)\n",
    "df_test = pd.read_csv('../datasets/test.csv', index_col=0)"
   ]
  },
  {
   "cell_type": "code",
   "execution_count": null,
   "metadata": {
    "collapsed": false
   },
   "outputs": [],
   "source": [
    "df_train.shape, df_test.shape"
   ]
  },
  {
   "cell_type": "code",
   "execution_count": null,
   "metadata": {
    "collapsed": false
   },
   "outputs": [],
   "source": [
    "np.any(df_train.isnull()), np.any(df_test.isnull())"
   ]
  },
  {
   "cell_type": "code",
   "execution_count": null,
   "metadata": {
    "collapsed": false
   },
   "outputs": [],
   "source": [
    "df_train.columns.tolist()"
   ]
  },
  {
   "cell_type": "code",
   "execution_count": null,
   "metadata": {
    "collapsed": false
   },
   "outputs": [],
   "source": [
    "df_train['species'].unique().size"
   ]
  },
  {
   "cell_type": "code",
   "execution_count": null,
   "metadata": {
    "collapsed": false
   },
   "outputs": [],
   "source": [
    "df_train['species'].value_counts().sort_index()"
   ]
  },
  {
   "cell_type": "code",
   "execution_count": null,
   "metadata": {
    "collapsed": true
   },
   "outputs": [],
   "source": [
    "def plot_distributions(data, var_groups=None):\n",
    "    \"\"\"Plot the distribution of every variable in a data set.\n",
    "\n",
    "    Input:\n",
    "        data        Input data set.\n",
    "        var_groups  Groups of variables (names) to plot together in the same figure.\n",
    "\n",
    "    Output:\n",
    "        (None)\n",
    "    \"\"\"\n",
    "    if var_groups is None:\n",
    "        sns.plt.figure(figsize=(10, data.shape[1] // 2))\n",
    "        sns.boxplot(data=data, orient='horizontal')\n",
    "        sns.plt.show()\n",
    "    else:\n",
    "        for group in var_groups:\n",
    "            sns.plt.figure(figsize=(10, len(group) // 2))\n",
    "            sns.boxplot(data=data[group], orient='horizontal')\n",
    "            sns.plt.show()"
   ]
  },
  {
   "cell_type": "code",
   "execution_count": null,
   "metadata": {
    "collapsed": true
   },
   "outputs": [],
   "source": [
    "def plot_correlations(data, ignore_vars=[]):\n",
    "    \"\"\"Plot the correlation map between every pair of numeric variables in a data set.\n",
    "\n",
    "    Input:\n",
    "        data         Input data set.\n",
    "        ignore_vars  Names of variables to ignore.\n",
    "\n",
    "    Output:\n",
    "        corr  The correlation matrix.\n",
    "    \"\"\"\n",
    "    corr = data.drop(ignore_vars, axis=1).corr()\n",
    "    sns.plt.figure(figsize=(10, 8))\n",
    "    sns.heatmap(corr)\n",
    "\n",
    "    return corr"
   ]
  },
  {
   "cell_type": "code",
   "execution_count": null,
   "metadata": {
    "collapsed": true
   },
   "outputs": [],
   "source": [
    "margin_vars = ['margin%d' % i for i in range(1, 65)]\n",
    "shape_vars = ['shape%d' % i for i in range(1, 65)]\n",
    "texture_vars = ['texture%d' % i for i in range(1, 65)]\n",
    "\n",
    "var_groups = [margin_vars, shape_vars, texture_vars]"
   ]
  },
  {
   "cell_type": "code",
   "execution_count": null,
   "metadata": {
    "collapsed": false
   },
   "outputs": [],
   "source": [
    "plot_distributions(df_train, var_groups)"
   ]
  },
  {
   "cell_type": "code",
   "execution_count": null,
   "metadata": {
    "collapsed": false
   },
   "outputs": [],
   "source": [
    "corr = plot_correlations(df_train, ignore_vars=['species'])"
   ]
  },
  {
   "cell_type": "code",
   "execution_count": null,
   "metadata": {
    "collapsed": true
   },
   "outputs": [],
   "source": [
    "from sklearn.preprocessing import StandardScaler\n",
    "from sklearn.preprocessing import LabelEncoder"
   ]
  },
  {
   "cell_type": "code",
   "execution_count": null,
   "metadata": {
    "collapsed": true
   },
   "outputs": [],
   "source": [
    "X_train = df_train.drop('species', axis=1).values\n",
    "y_train = df_train['species'].values\n",
    "\n",
    "X_test = df_test.values"
   ]
  },
  {
   "cell_type": "code",
   "execution_count": null,
   "metadata": {
    "collapsed": true
   },
   "outputs": [],
   "source": [
    "scaler = StandardScaler()"
   ]
  },
  {
   "cell_type": "code",
   "execution_count": null,
   "metadata": {
    "collapsed": true
   },
   "outputs": [],
   "source": [
    "X_train_sc = scaler.fit_transform(X_train)\n",
    "X_test_sc = scaler.fit_transform(X_test)"
   ]
  },
  {
   "cell_type": "code",
   "execution_count": null,
   "metadata": {
    "collapsed": true
   },
   "outputs": [],
   "source": [
    "encoder = LabelEncoder().fit(y_train)"
   ]
  },
  {
   "cell_type": "code",
   "execution_count": null,
   "metadata": {
    "collapsed": false
   },
   "outputs": [],
   "source": [
    "y_train_enc = encoder.transform(y_train)\n",
    "y_train_enc"
   ]
  },
  {
   "cell_type": "code",
   "execution_count": null,
   "metadata": {
    "collapsed": false
   },
   "outputs": [],
   "source": [
    "from sklearn.model_selection import StratifiedKFold\n",
    "from sklearn.model_selection import GridSearchCV\n",
    "from sklearn.linear_model import LogisticRegression\n",
    "from sklearn.neural_network import MLPClassifier"
   ]
  },
  {
   "cell_type": "code",
   "execution_count": null,
   "metadata": {
    "collapsed": false
   },
   "outputs": [],
   "source": [
    "models = {\n",
    "    'logreg': LogisticRegression(\n",
    "        solver='newton-cg',\n",
    "        multi_class='multinomial',\n",
    "        random_state=42,\n",
    "    ),\n",
    "    'mlp': MLPClassifier(\n",
    "        solver='lbfgs',\n",
    "        activation='tanh',\n",
    "        random_state=42,\n",
    "    ),\n",
    "}"
   ]
  },
  {
   "cell_type": "code",
   "execution_count": null,
   "metadata": {
    "collapsed": true
   },
   "outputs": [],
   "source": [
    "param_grids = {\n",
    "    'logreg': {\n",
    "        'C': [1000, 2000, 4000, 6000],\n",
    "    },\n",
    "    'mlp': {\n",
    "        'hidden_layer_sizes': [(300), (600,), (900)],\n",
    "    },\n",
    "}"
   ]
  },
  {
   "cell_type": "code",
   "execution_count": null,
   "metadata": {
    "collapsed": false
   },
   "outputs": [],
   "source": [
    "kfold = StratifiedKFold(5, random_state=42)"
   ]
  },
  {
   "cell_type": "code",
   "execution_count": null,
   "metadata": {
    "collapsed": false
   },
   "outputs": [],
   "source": [
    "for key in models.keys():\n",
    "    print('-------------------------------------------------------------------------------')\n",
    "    print('Training model: %s' % key)\n",
    "    print('-------------------------------------------------------------------------------')\n",
    "\n",
    "    gs = GridSearchCV(\n",
    "        estimator=models[key],\n",
    "        param_grid=param_grids[key],\n",
    "        scoring='neg_log_loss',\n",
    "        cv=kfold,\n",
    "        n_jobs=1,\n",
    "        verbose=1,\n",
    "    )\n",
    "    gs.fit(X_train_sc, y_train_enc)\n",
    "\n",
    "    models[key] = gs.best_estimator_\n",
    "\n",
    "    print('Best score: %g' % gs.best_score_)\n",
    "    print('Best parameters:', gs.best_params_)\n",
    "    print()"
   ]
  },
  {
   "cell_type": "code",
   "execution_count": null,
   "metadata": {
    "collapsed": true
   },
   "outputs": [],
   "source": [
    "from copy import deepcopy"
   ]
  },
  {
   "cell_type": "code",
   "execution_count": null,
   "metadata": {
    "collapsed": true
   },
   "outputs": [],
   "source": [
    "def plot_learning_curves(estimators, title, X, y, scoring=None, cv=None,\n",
    "                         train_sizes=np.linspace(0.1, 1, 5), ylim=None, n_jobs=-1):\n",
    "    \"\"\"Plots training and validation errors for increasingly bigger portions of\n",
    "    the data set, showing the learning progress.\n",
    "    \n",
    "    Inputs:\n",
    "        estimators    List of models to evaluate.\n",
    "        title         Graph title.\n",
    "        X             Training/validation samples (independent variables).\n",
    "        y             Training/validation targets (dependent variables).\n",
    "        scoring       Scoring function that evaluates the models.\n",
    "        cv            Cross-validation object or number of folds.\n",
    "        train_sizes   Portions of the training set used in the evaluations.\n",
    "        ylim          Limits of the displayed y values in the graph.\n",
    "        n_jobs        Number of jobs (threads).\n",
    "    \n",
    "    Outputs:\n",
    "        None\n",
    "    \"\"\"\n",
    "    from sklearn.model_selection import learning_curve\n",
    "\n",
    "    palette = sns.color_palette()\n",
    "\n",
    "    for i in range(len(estimators)):\n",
    "        train_sizes, train_scores, valid_scores = learning_curve(\n",
    "            estimators[i], X, y, cv=cv, scoring=scoring,\n",
    "            train_sizes=train_sizes, n_jobs=n_jobs)\n",
    "\n",
    "        train_scores_mean = np.mean(train_scores, axis=1)\n",
    "        train_scores_std = np.std(train_scores, axis=1)\n",
    "        valid_scores_mean = np.mean(valid_scores, axis=1)\n",
    "        valid_scores_std = np.std(valid_scores, axis=1)\n",
    "\n",
    "        sns.plt.plot(train_sizes, train_scores_mean, 'o--', color=palette[i],\n",
    "            label=type(estimators[i]).__name__ + ' (train)')\n",
    "        sns.plt.fill_between(train_sizes, train_scores_mean - train_scores_std,\n",
    "            train_scores_mean + train_scores_std, alpha=0.1, color=palette[i])\n",
    "\n",
    "        sns.plt.plot(train_sizes, valid_scores_mean, 'o-', color=palette[i],\n",
    "            label=type(estimators[i]).__name__ + ' (cv)')\n",
    "        sns.plt.fill_between(train_sizes, valid_scores_mean - valid_scores_std,\n",
    "            valid_scores_mean + valid_scores_std, alpha=0.1, color=palette[i])\n",
    "\n",
    "    if ylim is not None:\n",
    "        sns.plt.ylim(*ylim)\n",
    "\n",
    "    sns.plt.title(title)\n",
    "    sns.plt.grid('on')\n",
    "    sns.plt.legend(loc='best')\n",
    "    sns.plt.show()"
   ]
  },
  {
   "cell_type": "code",
   "execution_count": null,
   "metadata": {
    "collapsed": false
   },
   "outputs": [],
   "source": [
    "plot_learning_curves([deepcopy(x) for x in models.values()],\n",
    "                     'Learning Curves',\n",
    "                     X_train_sc,\n",
    "                     y_train_enc,\n",
    "                     scoring='accuracy',\n",
    "                     cv=kfold,\n",
    "                     train_sizes=np.linspace(0.1, 1, 10),\n",
    "                     n_jobs=1,\n",
    ")"
   ]
  },
  {
   "cell_type": "code",
   "execution_count": null,
   "metadata": {
    "collapsed": false
   },
   "outputs": [],
   "source": [
    "for key in models.keys():\n",
    "    print('Predicting with model: %s' % key)\n",
    "\n",
    "    y_test_proba = models[key].predict_proba(X_test_sc)\n",
    "    y_test_label = encoder.inverse_transform(models[key].predict(X_test_sc))\n",
    "\n",
    "    df_test_proba = pd.DataFrame(y_test_proba,\n",
    "                                 index=df_test.index,\n",
    "                                 columns=encoder.inverse_transform(np.unique(y_train_enc)))\n",
    "    df_test_label = pd.DataFrame(y_test_label,\n",
    "                                 index=df_test.index,\n",
    "                                 columns=['species'])\n",
    "\n",
    "    df_test_proba.to_csv('../submissions/submission_%s.csv' % key, index_label='id')\n",
    "    df_test_label.to_csv('../submissions/prediction_%s.csv' % key, index_label='id')"
   ]
  },
  {
   "cell_type": "code",
   "execution_count": null,
   "metadata": {
    "collapsed": true
   },
   "outputs": [],
   "source": []
  }
 ],
 "metadata": {
  "anaconda-cloud": {},
  "kernelspec": {
   "display_name": "Python [conda root]",
   "language": "python",
   "name": "conda-root-py"
  },
  "language_info": {
   "codemirror_mode": {
    "name": "ipython",
    "version": 3
   },
   "file_extension": ".py",
   "mimetype": "text/x-python",
   "name": "python",
   "nbconvert_exporter": "python",
   "pygments_lexer": "ipython3",
   "version": "3.5.2"
  }
 },
 "nbformat": 4,
 "nbformat_minor": 1
}
